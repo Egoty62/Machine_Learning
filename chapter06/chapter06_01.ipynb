{
 "cells": [
  {
   "cell_type": "code",
   "execution_count": 1,
   "metadata": {},
   "outputs": [],
   "source": [
    "# 데이터 전처리의 개념\n",
    "    # 머신러닝에서 가장 기초적인 수식\n",
    "        # y = f(x)\n",
    "            # 데이터 x를 머신러닝 함수 f()에 넣으면 그 결과 y가 나오는 방식\n",
    "    # 넣어야 하는 데이터 x는 훈련 데이터(train data), 테스트 데이터(test data)가 모두 같아야 함\n",
    "        # 같은 구조를 갖는 피쳐(feature)이어야 함\n",
    "            # 이를 위해 데이터를 전처리 하는 과정을 거쳐 깨끗한 데이터로 만드는 접근 필요\n",
    "    # 데이터 전처리(data preprocessing)란?\n",
    "        # 머신러닝 모델에 훈련 데이터를 입력하기 전 가공하는 단계"
   ]
  },
  {
   "cell_type": "code",
   "execution_count": null,
   "metadata": {},
   "outputs": [],
   "source": [
    "# 데이터 품질 문제\n",
    "    # 다뤄야 할 데이터에는 다양한 품질 문제들이 있음\n",
    "    # 1. 데이터 분포의 지나친 차이\n",
    "        # 데이터가 '연속형 값'일 경우 데이터의 최대, 최솟값의 차이가 피쳐보다 더 많이 나는 경우 발생\n",
    "            # 머신러닝 모델에 따라 학습에 영향을 줄 수 있음\n",
    "                # 데이터의 스케일(scale)을 맞춰주는 것이 필요\n",
    "        # 데이터의 최댓값과 최솟값을 0과 1 사이 값으로 바꾸거나 정규분포 형태로 나타내는 등의 접근이 필요\n",
    "\n",
    "    # 2. 기수형 데이터와 서수형 데이터\n",
    "        # 일반적으로 숫자로 표현되지 않음\n",
    "            # 컴퓨터가 이해할 수 있는 형태의 정보로 변형해야 하는 문제가 있음\n",
    "        # 어떤 명목형 값은 순서가 있는 기수형 데이터 or 순서가 없는 서수형 데이터임\n",
    "            # 이런 데이터의 특징에 따라 어떻게 숫자 형태로 바꿀 것인지에 대한 고려 필요\n",
    "\n",
    "    # 3. 결측치(missing data)\n",
    "        # 결측치 : 데이터에서 실제로 존재하지만 DB에 기록되지 않는 데이터\n",
    "        # 결측치가 생기는 경우 해당 데이터를 빼고 모델을 돌릴 수 없음\n",
    "            # 결측치 처리 전략을 세워 데이터를 채워 넣어야 함\n",
    "\n",
    "    # 이상치(outlier)\n",
    "        # 극단적으로 큰 값과 작은 값이 있을 때가 있음\n",
    "            # 단순히 데이터 분포가 차이 나는 것이 아니라 데이터 값이 극단적인 경우\n",
    "                # 이러한 데이터를 이상치라고 함\n",
    "        # 이상치는 데이터의 오기입이나 일반적이지 않은 특이 현상 등으로 나타나는 경우\n",
    "        # 이상치에도 적절한 전략을 세운 데이터 전처리가 필요함"
   ]
  }
 ],
 "metadata": {
  "kernelspec": {
   "display_name": "Python 3",
   "language": "python",
   "name": "python3"
  },
  "language_info": {
   "codemirror_mode": {
    "name": "ipython",
    "version": 3
   },
   "file_extension": ".py",
   "mimetype": "text/x-python",
   "name": "python",
   "nbconvert_exporter": "python",
   "pygments_lexer": "ipython3",
   "version": "3.9.13"
  }
 },
 "nbformat": 4,
 "nbformat_minor": 2
}
