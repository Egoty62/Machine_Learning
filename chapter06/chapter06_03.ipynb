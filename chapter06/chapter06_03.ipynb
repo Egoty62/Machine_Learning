{
 "cells": [
  {
   "cell_type": "code",
   "execution_count": 1,
   "metadata": {},
   "outputs": [],
   "source": [
    "# 데이터를 분석하는 실습을 하기 전에, 데이터를 확보하기 위해 실제 데이터가 필요\n",
    "# 많은 엔지니어들이 연습을 위해 데이터를 제공하고 있음\n",
    "    # 캐글(Kaggle)\n",
    "        # https://www.kaggle.com/\n",
    "    # 데이콘(DACON)\n",
    "        # https://dacon.io/"
   ]
  },
  {
   "cell_type": "code",
   "execution_count": 2,
   "metadata": {},
   "outputs": [],
   "source": [
    "# 데이터 전처리 실습하기 : 타이타닉 생존자 예측하기\n",
    "    # 타이타닉 문제는 매우 기본적인 데이터를 가지고 있으면서도 평가 등의 방법이 매우 쉬움\n",
    "        # 때문에 많은 사람들이 첫 번째 데이터셋으로 사용\n",
    "        # https://www.kaggle.com/c/titnic/data"
   ]
  },
  {
   "cell_type": "code",
   "execution_count": 11,
   "metadata": {},
   "outputs": [
    {
     "data": {
      "text/plain": [
       "['test.csv', 'train.csv']"
      ]
     },
     "execution_count": 11,
     "metadata": {},
     "output_type": "execute_result"
    }
   ],
   "source": [
    "    # 데이터 확인하기\n",
    "        # 파일 경로는 C:\\Machine_Learning (git)\\chapter06\n",
    "        # 이 안에 두 개의 실습 데이터인 train.csv, test.csv가 ㅣㅆ음\n",
    "\n",
    "import pandas as pd\n",
    "import os\n",
    "import matplotlib.pyplot as plt\n",
    "import numpy as np\n",
    "import seaborn as sns\n",
    "\n",
    "sns.set(style= 'whitegrid', color_codes= True)\n",
    "DATA_DIR = 'C:/Machine_Learning (git)/chapter06/source'\n",
    "os.listdir(DATA_DIR)"
   ]
  },
  {
   "cell_type": "code",
   "execution_count": 16,
   "metadata": {},
   "outputs": [
    {
     "data": {
      "text/plain": [
       "['C:/Machine_Learning (git)/chapter06/source\\\\train.csv',\n",
       " 'C:/Machine_Learning (git)/chapter06/source\\\\test.csv']"
      ]
     },
     "execution_count": 16,
     "metadata": {},
     "output_type": "execute_result"
    }
   ],
   "source": [
    "# test.csv와 train.csv를 가져온 후, 파일 순서를 바꾸고 상대 경로 리스트 생성\n",
    "DATA_DIR = 'C:/Machine_Learning (git)/chapter06/source'\n",
    "data_files = sorted([os.path.join(DATA_DIR, filename) \n",
    "                     for filename in os.listdir(DATA_DIR)], reverse= True)\n",
    "data_files"
   ]
  },
  {
   "cell_type": "code",
   "execution_count": null,
   "metadata": {},
   "outputs": [],
   "source": []
  }
 ],
 "metadata": {
  "kernelspec": {
   "display_name": "machinelearning",
   "language": "python",
   "name": "python3"
  },
  "language_info": {
   "codemirror_mode": {
    "name": "ipython",
    "version": 3
   },
   "file_extension": ".py",
   "mimetype": "text/x-python",
   "name": "python",
   "nbconvert_exporter": "python",
   "pygments_lexer": "ipython3",
   "version": "3.9.13"
  }
 },
 "nbformat": 4,
 "nbformat_minor": 2
}
