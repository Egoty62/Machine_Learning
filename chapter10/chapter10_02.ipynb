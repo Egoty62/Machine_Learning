{
 "cells": [
  {
   "cell_type": "markdown",
   "metadata": {},
   "source": [
    "# Chapter 10. 로지스틱 회귀의 심화\n",
    "## 2. 다중클래스 분류를 코드로 구현하기\n",
    "### 01 - mnist 데이터셋의 이해\n",
    "- 사이킷런(scikit-learn)을 사용하여 다중클래스 분류를 다룸\n",
    "    - 먼저 다중클래스 분류 데이터셋에 대해 이해해야 함\n",
    "- 다양한 데이터셋 중 손글씨를 숫자로 인식하는 이미지 분류 문제를 가장 많이 사용\n",
    "    - 흔히 **mnist**데이터셋이라 부름\n",
    "        - 뉴럴 네트워크(neural network)에서 분류 정확도의 성능을 보여줬던 데이터셋으로 유명\n",
    "\n",
    "- 컴퓨터는 이미지를 이미지 그 자체로 인식하지 못 함\n",
    "    - 해당 이미지를 일종의 숫자로 변환하여 인식\n",
    "    - 이미지를 일종의 점(dot)으로 생각하면 m $\\times$ n만큼의 공간이 존재\n",
    "        - 그 공간 안에서 색깔이 진할수록 높은 값을 가지고 색깔이 옅을수록 낮은 값을 가진다 이해할 수 있음\n",
    "\n",
    "### 02 - 데이터 불러오기\n",
    "- 사이킷런의 데이터를 불러오기 위해 **datasets**모듈을 호출\n",
    "    - **load_digits**함수를 사용하면 dict 타입 형태의 데이터를 불러올 수 있음\n",
    "        - 기본적인 데이터는 **data** 키 값에 들어있음\n",
    "        - $y$값에 해당하는 값은 **target**에 있음\n",
    "        - **DESCR**을 보면 데이터에 대해 자세히 설명되어 있음"
   ]
  },
  {
   "cell_type": "code",
   "execution_count": 5,
   "metadata": {},
   "outputs": [
    {
     "data": {
      "text/plain": [
       "dict_keys(['data', 'target', 'frame', 'feature_names', 'target_names', 'images', 'DESCR'])"
      ]
     },
     "execution_count": 5,
     "metadata": {},
     "output_type": "execute_result"
    }
   ],
   "source": [
    "from sklearn import datasets\n",
    "digit_dataset = datasets.load_digits()\n",
    "digit_dataset.keys()"
   ]
  },
  {
   "cell_type": "code",
   "execution_count": 6,
   "metadata": {},
   "outputs": [
    {
     "data": {
      "text/plain": [
       "(1797, 8, 8)"
      ]
     },
     "execution_count": 6,
     "metadata": {},
     "output_type": "execute_result"
    }
   ],
   "source": [
    "# 좀 더 자세히 데이터를 확인하기 위해 아래 코드 실행\n",
    "digit_dataset[\"images\"].shape\n",
    "# 첫 번째 값인 1797은 데이터의 개수\n",
    "# 그 다음에 나오는 8, 8은 가로와 세로 8칸씩 총 64칸이 존재하고 그 값이 모두 채워졌단 의미"
   ]
  },
  {
   "cell_type": "code",
   "execution_count": 7,
   "metadata": {},
   "outputs": [
    {
     "data": {
      "text/plain": [
       "0"
      ]
     },
     "execution_count": 7,
     "metadata": {},
     "output_type": "execute_result"
    }
   ],
   "source": [
    "digit_dataset[\"target\"][0]\n",
    "# target 데이터의 0번째 값은 0"
   ]
  },
  {
   "cell_type": "code",
   "execution_count": 8,
   "metadata": {},
   "outputs": [
    {
     "data": {
      "text/plain": [
       "array([[ 0.,  0.,  5., 13.,  9.,  1.,  0.,  0.],\n",
       "       [ 0.,  0., 13., 15., 10., 15.,  5.,  0.],\n",
       "       [ 0.,  3., 15.,  2.,  0., 11.,  8.,  0.],\n",
       "       [ 0.,  4., 12.,  0.,  0.,  8.,  8.,  0.],\n",
       "       [ 0.,  5.,  8.,  0.,  0.,  9.,  8.,  0.],\n",
       "       [ 0.,  4., 11.,  0.,  1., 12.,  7.,  0.],\n",
       "       [ 0.,  2., 14.,  5., 10., 12.,  0.,  0.],\n",
       "       [ 0.,  0.,  6., 13., 10.,  0.,  0.,  0.]])"
      ]
     },
     "execution_count": 8,
     "metadata": {},
     "output_type": "execute_result"
    }
   ],
   "source": [
    "digit_dataset[\"images\"][0]\n",
    "# images 데이터의 0번째 값을 출력하면 배열인 array 형태로 나옴"
   ]
  },
  {
   "cell_type": "code",
   "execution_count": 11,
   "metadata": {},
   "outputs": [
    {
     "data": {
      "image/png": "[encoded data removed]",
      "text/plain": [
       "<Figure size 1000x300 with 4 Axes>"
      ]
     },
     "metadata": {},
     "output_type": "display_data"
    }
   ],
   "source": [
    "# 위 결과값에서 각 숫자가 클수록 실제 검정색에 가까운 값이 나옴\n",
    "# 이를 matplotlib 도구를 사용하여 시각화하면 아래 코드와 같음\n",
    "import matplotlib.pyplot as plt\n",
    "from random import randint\n",
    "\n",
    "_, axes = plt.subplots(nrows = 1, ncols = 4, figsize = (10, 3))\n",
    "# 하나의 창에 여러 개의 그래프를 그리는 subplots를 4개 생성\n",
    "\n",
    "for ax in axes :\n",
    "    # 각 subplot에 들어갈 숫자를 위해 for문이 돌 때마다 하나의 값을 생성\n",
    "    num = randint(1, 1000)\n",
    "    # 각 값은 randint 함수로 인해 랜덤하게 1에서 1000 사이 숫자를 뽑아서 변수 num에 할당\n",
    "    image = digit_dataset[\"images\"][num]\n",
    "    label = digit_dataset[\"target\"][num]\n",
    "    ax.set_axis_off()\n",
    "    ax.imshow(image, cmap = plt.cm.gray_r, interpolation = 'nearest')\n",
    "    # 그 숫자를 사용하여 digit_dataset에서 값을 하나씩 가져오고, imshow 함수를 사용하여 해당 값을 표시\n",
    "    ax.set_title('Training : %i' % label)"
   ]
  },
  {
   "cell_type": "markdown",
   "metadata": {},
   "source": [
    "- 이 데이터는 8 $\\times$ 9 행렬이므로 2D 이미지로 표현됨\n",
    "\n",
    "- 아래 코드와 같이 **digit_dataset[\"data\"]**로 받아오면 총 64개의 피쳐(feature)를 가진 하나의 데이터로 받을 수 있음"
   ]
  },
  {
   "cell_type": "code",
   "execution_count": 12,
   "metadata": {},
   "outputs": [
    {
     "data": {
      "text/plain": [
       "(64,)"
      ]
     },
     "execution_count": 12,
     "metadata": {},
     "output_type": "execute_result"
    }
   ],
   "source": [
    "digit_dataset[\"data\"][0].shape"
   ]
  },
  {
   "cell_type": "markdown",
   "metadata": {},
   "source": [
    "### 03 - 데이터 분류하기\n",
    "- 데이터를 분류하기 위해서는 먼저 데이터를 훈련 데이터셋과 테스트 데이터셋으로 구분"
   ]
  },
  {
   "cell_type": "code",
   "execution_count": 13,
   "metadata": {},
   "outputs": [],
   "source": [
    "from sklearn.model_selection import train_test_split\n",
    "\n",
    "X = digit_dataset[\"data\"]\n",
    "y = digit_dataset[\"target\"]\n",
    "# 데이터셋 data와 target에 있는 값들을 각각 X, y 변수에 할당\n",
    "X_train, X_test, y_train, y_test = train_test_split(X, y)\n",
    "# train_test_split으로 훈련 데이터셋과 테스트 데이터셋으로 구분하여 데이터 X, y를 각 변수에 할당"
   ]
  },
  {
   "cell_type": "markdown",
   "metadata": {},
   "source": [
    "### 04 - 모델 생성하기\n",
    "- 다중클래스 분류에서는 아래 코드와 같이 두 가지 방식으로 모델을 구성할 수 있음\n",
    "    - **ovr**은 각각의 클래스 모드를 모두 이진모델(binary model)로 만들어 학습하는 방식\n",
    "    - **multinomial**은 소프트맥스 함수(softmax function)를 사용하여 계산하는 방식\n",
    "        - 해당 학습을 위해 경사하강법을 사용하는 매개변수 **solver**를 **sag**으로 변경해야 함"
   ]
  },
  {
   "cell_type": "code",
   "execution_count": 14,
   "metadata": {},
   "outputs": [
    {
     "name": "stderr",
     "output_type": "stream",
     "text": [
      "c:\\workspace\\machinelearning\\lib\\site-packages\\sklearn\\linear_model\\_logistic.py:460: ConvergenceWarning: lbfgs failed to converge (status=1):\n",
      "STOP: TOTAL NO. of ITERATIONS REACHED LIMIT.\n",
      "\n",
      "Increase the number of iterations (max_iter) or scale the data as shown in:\n",
      "    https://scikit-learn.org/stable/modules/preprocessing.html\n",
      "Please also refer to the documentation for alternative solver options:\n",
      "    https://scikit-learn.org/stable/modules/linear_model.html#logistic-regression\n",
      "  n_iter_i = _check_optimize_result(\n",
      "c:\\workspace\\machinelearning\\lib\\site-packages\\sklearn\\linear_model\\_sag.py:350: ConvergenceWarning: The max_iter was reached which means the coef_ did not converge\n",
      "  warnings.warn(\n"
     ]
    },
    {
     "data": {
      "text/html": [
       "<style>#sk-container-id-1 {color: black;}#sk-container-id-1 pre{padding: 0;}#sk-container-id-1 div.sk-toggleable {background-color: white;}#sk-container-id-1 label.sk-toggleable__label {cursor: pointer;display: block;width: 100%;margin-bottom: 0;padding: 0.3em;box-sizing: border-box;text-align: center;}#sk-container-id-1 label.sk-toggleable__label-arrow:before {content: \"▸\";float: left;margin-right: 0.25em;color: #696969;}#sk-container-id-1 label.sk-toggleable__label-arrow:hover:before {color: black;}#sk-container-id-1 div.sk-estimator:hover label.sk-toggleable__label-arrow:before {color: black;}#sk-container-id-1 div.sk-toggleable__content {max-height: 0;max-width: 0;overflow: hidden;text-align: left;background-color: #f0f8ff;}#sk-container-id-1 div.sk-toggleable__content pre {margin: 0.2em;color: black;border-radius: 0.25em;background-color: #f0f8ff;}#sk-container-id-1 input.sk-toggleable__control:checked~div.sk-toggleable__content {max-height: 200px;max-width: 100%;overflow: auto;}#sk-container-id-1 input.sk-toggleable__control:checked~label.sk-toggleable__label-arrow:before {content: \"▾\";}#sk-container-id-1 div.sk-estimator input.sk-toggleable__control:checked~label.sk-toggleable__label {background-color: #d4ebff;}#sk-container-id-1 div.sk-label input.sk-toggleable__control:checked~label.sk-toggleable__label {background-color: #d4ebff;}#sk-container-id-1 input.sk-hidden--visually {border: 0;clip: rect(1px 1px 1px 1px);clip: rect(1px, 1px, 1px, 1px);height: 1px;margin: -1px;overflow: hidden;padding: 0;position: absolute;width: 1px;}#sk-container-id-1 div.sk-estimator {font-family: monospace;background-color: #f0f8ff;border: 1px dotted black;border-radius: 0.25em;box-sizing: border-box;margin-bottom: 0.5em;}#sk-container-id-1 div.sk-estimator:hover {background-color: #d4ebff;}#sk-container-id-1 div.sk-parallel-item::after {content: \"\";width: 100%;border-bottom: 1px solid gray;flex-grow: 1;}#sk-container-id-1 div.sk-label:hover label.sk-toggleable__label {background-color: #d4ebff;}#sk-container-id-1 div.sk-serial::before {content: \"\";position: absolute;border-left: 1px solid gray;box-sizing: border-box;top: 0;bottom: 0;left: 50%;z-index: 0;}#sk-container-id-1 div.sk-serial {display: flex;flex-direction: column;align-items: center;background-color: white;padding-right: 0.2em;padding-left: 0.2em;position: relative;}#sk-container-id-1 div.sk-item {position: relative;z-index: 1;}#sk-container-id-1 div.sk-parallel {display: flex;align-items: stretch;justify-content: center;background-color: white;position: relative;}#sk-container-id-1 div.sk-item::before, #sk-container-id-1 div.sk-parallel-item::before {content: \"\";position: absolute;border-left: 1px solid gray;box-sizing: border-box;top: 0;bottom: 0;left: 50%;z-index: -1;}#sk-container-id-1 div.sk-parallel-item {display: flex;flex-direction: column;z-index: 1;position: relative;background-color: white;}#sk-container-id-1 div.sk-parallel-item:first-child::after {align-self: flex-end;width: 50%;}#sk-container-id-1 div.sk-parallel-item:last-child::after {align-self: flex-start;width: 50%;}#sk-container-id-1 div.sk-parallel-item:only-child::after {width: 0;}#sk-container-id-1 div.sk-dashed-wrapped {border: 1px dashed gray;margin: 0 0.4em 0.5em 0.4em;box-sizing: border-box;padding-bottom: 0.4em;background-color: white;}#sk-container-id-1 div.sk-label label {font-family: monospace;font-weight: bold;display: inline-block;line-height: 1.2em;}#sk-container-id-1 div.sk-label-container {text-align: center;}#sk-container-id-1 div.sk-container {/* jupyter's `normalize.less` sets `[hidden] { display: none; }` but bootstrap.min.css set `[hidden] { display: none !important; }` so we also need the `!important` here to be able to override the default hidden behavior on the sphinx rendered scikit-learn.org. See: https://github.com/scikit-learn/scikit-learn/issues/21755 */display: inline-block !important;position: relative;}#sk-container-id-1 div.sk-text-repr-fallback {display: none;}</style><div id=\"sk-container-id-1\" class=\"sk-top-container\"><div class=\"sk-text-repr-fallback\"><pre>LogisticRegression(multi_class=&#x27;multinomial&#x27;, solver=&#x27;sag&#x27;)</pre><b>In a Jupyter environment, please rerun this cell to show the HTML representation or trust the notebook. <br />On GitHub, the HTML representation is unable to render, please try loading this page with nbviewer.org.</b></div><div class=\"sk-container\" hidden><div class=\"sk-item\"><div class=\"sk-estimator sk-toggleable\"><input class=\"sk-toggleable__control sk-hidden--visually\" id=\"sk-estimator-id-1\" type=\"checkbox\" checked><label for=\"sk-estimator-id-1\" class=\"sk-toggleable__label sk-toggleable__label-arrow\">LogisticRegression</label><div class=\"sk-toggleable__content\"><pre>LogisticRegression(multi_class=&#x27;multinomial&#x27;, solver=&#x27;sag&#x27;)</pre></div></div></div></div></div>"
      ],
      "text/plain": [
       "LogisticRegression(multi_class='multinomial', solver='sag')"
      ]
     },
     "execution_count": 14,
     "metadata": {},
     "output_type": "execute_result"
    }
   ],
   "source": [
    "from sklearn.linear_model import LogisticRegression\n",
    "\n",
    "logreg_ovr = LogisticRegression(multi_class= \"ovr\")\n",
    "logreg_softmax = LogisticRegression(multi_class= \"multinomial\", solver= \"sag\")\n",
    "\n",
    "logreg_ovr.fit(X_train, y_train)\n",
    "logreg_softmax.fit(X_train, y_train)"
   ]
  },
  {
   "cell_type": "markdown",
   "metadata": {},
   "source": [
    "### 05 - 성능 측정하기\n",
    "- 일반적으로 다중클래스 분류도 기존의 혼동행렬 사용\n",
    "\n",
    "- 아래 코드와 같이 각 클래스 대비 예측한 값을 행렬 형태로 표현 가능"
   ]
  },
  {
   "cell_type": "code",
   "execution_count": 15,
   "metadata": {},
   "outputs": [
    {
     "data": {
      "text/plain": [
       "array([[44,  0,  0,  0,  1,  0,  0,  0,  0,  0],\n",
       "       [ 0, 46,  0,  1,  0,  0,  1,  0,  3,  2],\n",
       "       [ 0,  0, 44,  1,  0,  0,  0,  0,  0,  0],\n",
       "       [ 0,  0,  0, 48,  0,  1,  0,  0,  0,  0],\n",
       "       [ 0,  1,  0,  0, 41,  0,  0,  0,  0,  0],\n",
       "       [ 0,  0,  0,  0,  0, 41,  0,  0,  0,  0],\n",
       "       [ 0,  0,  0,  0,  0,  0, 52,  0,  0,  0],\n",
       "       [ 0,  0,  0,  0,  0,  0,  0, 39,  0,  1],\n",
       "       [ 0,  2,  0,  0,  1,  0,  0,  0, 40,  0],\n",
       "       [ 0,  0,  0,  0,  0,  0,  0,  1,  1, 38]], dtype=int64)"
      ]
     },
     "execution_count": 15,
     "metadata": {},
     "output_type": "execute_result"
    }
   ],
   "source": [
    "from sklearn.metrics import confusion_matrix\n",
    "y_pred = logreg_ovr.predict(X_test).copy()\n",
    "y_true = y_test.copy()\n",
    "confusion_matrix(y_true, y_pred)"
   ]
  },
  {
   "cell_type": "code",
   "execution_count": 16,
   "metadata": {},
   "outputs": [
    {
     "name": "stdout",
     "output_type": "stream",
     "text": [
      "              precision    recall  f1-score   support\n",
      "\n",
      "           0       1.00      0.98      0.99        45\n",
      "           1       0.94      0.87      0.90        53\n",
      "           2       1.00      0.98      0.99        45\n",
      "           3       0.96      0.98      0.97        49\n",
      "           4       0.95      0.98      0.96        42\n",
      "           5       0.98      1.00      0.99        41\n",
      "           6       0.98      1.00      0.99        52\n",
      "           7       0.97      0.97      0.97        40\n",
      "           8       0.91      0.93      0.92        43\n",
      "           9       0.93      0.95      0.94        40\n",
      "\n",
      "    accuracy                           0.96       450\n",
      "   macro avg       0.96      0.96      0.96       450\n",
      "weighted avg       0.96      0.96      0.96       450\n",
      "\n"
     ]
    }
   ],
   "source": [
    "# 또한 이를 각 라벨별로 수치화시킨다면\n",
    "# classification_report 함수를 사용하여 라벨별로 분류 성능을 표시할 수 있음\n",
    "from sklearn.metrics import classification_report\n",
    "print(classification_report(y_true, y_pred))"
   ]
  },
  {
   "cell_type": "markdown",
   "metadata": {},
   "source": [
    "- 한 가지 차이가 있음\n",
    "    - 각 라벨별이 아닌 통합적인 성능을 나타내려면 정밀도(precision), 민감도(recall), F1 스코어 등을 사용할 수 있음\n",
    "        - 이러한 지표들은 micro를 선택하면 전체 평균값, macro를 선택하면 각 라벨별 결과의 합에 대한 평균을 나타냄\n",
    "            - micro : classification_report의 각 라벨별 평균, 즉 avg 값을 취함\n",
    "            - macro : 각 라벨별로 False Positive와 True Positive 값을 모두 더해서 True Positive 값으로 나눔"
   ]
  },
  {
   "cell_type": "code",
   "execution_count": 17,
   "metadata": {},
   "outputs": [
    {
     "data": {
      "text/plain": [
       "0.9622222222222222"
      ]
     },
     "execution_count": 17,
     "metadata": {},
     "output_type": "execute_result"
    }
   ],
   "source": [
    "result = confusion_matrix(y_true, y_pred)\n",
    "result.diagonal().sum() / result.sum(axis= 0).sum()"
   ]
  },
  {
   "cell_type": "markdown",
   "metadata": {},
   "source": [
    "- 만약 각 라벨들의 데이터 개수가 차이가 난다면 micro를 선택하여 얻는 결과가 더 중요\n",
    "- 그렇지 않을 경우는 macro로 선택하여 라벨의 평균적인 성능을 나타낼 수 있음\n",
    "\n",
    "- 이를 위해 아래 코드와 같이 **precision_score** 함수에 매개변수 **average**를 변경"
   ]
  },
  {
   "cell_type": "code",
   "execution_count": 18,
   "metadata": {},
   "outputs": [
    {
     "data": {
      "text/plain": [
       "0.9622222222222222"
      ]
     },
     "execution_count": 18,
     "metadata": {},
     "output_type": "execute_result"
    }
   ],
   "source": [
    "from sklearn.metrics import precision_score\n",
    "precision_score(y_true, y_pred, average= \"micro\")"
   ]
  },
  {
   "cell_type": "code",
   "execution_count": 19,
   "metadata": {},
   "outputs": [
    {
     "data": {
      "text/plain": [
       "0.9620506611342872"
      ]
     },
     "execution_count": 19,
     "metadata": {},
     "output_type": "execute_result"
    }
   ],
   "source": [
    "precision_score(y_true, y_pred, average= \"macro\")"
   ]
  },
  {
   "cell_type": "code",
   "execution_count": 20,
   "metadata": {},
   "outputs": [
    {
     "data": {
      "text/plain": [
       "array([1.        , 0.93877551, 1.        , 0.96      , 0.95348837,\n",
       "       0.97619048, 0.98113208, 0.975     , 0.90909091, 0.92682927])"
      ]
     },
     "execution_count": 20,
     "metadata": {},
     "output_type": "execute_result"
    }
   ],
   "source": [
    "precision_score(y_true, y_pred, average= None)"
   ]
  },
  {
   "cell_type": "code",
   "execution_count": null,
   "metadata": {},
   "outputs": [],
   "source": []
  }
 ],
 "metadata": {
  "kernelspec": {
   "display_name": "machinelearning",
   "language": "python",
   "name": "python3"
  },
  "language_info": {
   "codemirror_mode": {
    "name": "ipython",
    "version": 3
   },
   "file_extension": ".py",
   "mimetype": "text/x-python",
   "name": "python",
   "nbconvert_exporter": "python",
   "pygments_lexer": "ipython3",
   "version": "3.9.13"
  }
 },
 "nbformat": 4,
 "nbformat_minor": 2
}
