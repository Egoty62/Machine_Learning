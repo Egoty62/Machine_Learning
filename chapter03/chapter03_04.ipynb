{
 "cells": [
  {
   "cell_type": "code",
   "execution_count": 1,
   "metadata": {},
   "outputs": [],
   "source": [
    "# 비교 연산 & 데이터 추출\n",
    "    # 넘파이의 비교 연산은 배열 내, 배열 간의 비교 연산이 있음\n",
    "    # 비교 연산들의 결과는 항상 불린형을 가진 배열로 추출"
   ]
  },
  {
   "cell_type": "code",
   "execution_count": 2,
   "metadata": {},
   "outputs": [
    {
     "data": {
      "text/plain": [
       "array([ True, False, False,  True,  True,  True])"
      ]
     },
     "execution_count": 2,
     "metadata": {},
     "output_type": "execute_result"
    }
   ],
   "source": [
    "# 브로드캐스팅 비교 연산\n",
    "    # 벡터 내의 전체 요소에 해당 연산이 적용\n",
    "import numpy as np\n",
    "x = np.array([4, 3, 2, 6, 8, 5])\n",
    "x > 3"
   ]
  },
  {
   "cell_type": "code",
   "execution_count": 4,
   "metadata": {},
   "outputs": [
    {
     "data": {
      "text/plain": [
       "array([False,  True, False])"
      ]
     },
     "execution_count": 4,
     "metadata": {},
     "output_type": "execute_result"
    }
   ],
   "source": [
    "x = np.array([1, 3, 0])\n",
    "y = np.array([2, 1, 7])\n",
    "x > y"
   ]
  },
  {
   "cell_type": "code",
   "execution_count": 5,
   "metadata": {},
   "outputs": [
    {
     "data": {
      "text/plain": [
       "array([ True,  True,  True, False, False])"
      ]
     },
     "execution_count": 5,
     "metadata": {},
     "output_type": "execute_result"
    }
   ],
   "source": [
    "# all, any\n",
    "    # all() : 배열 내의 모든 값이 True일 때만 True 반환\n",
    "    # any() : 배열 내의 어떤 값 중 하나라도 True일 때 True 반환\n",
    "x = np.array([4, 6, 7, 3, 2])\n",
    "x > 3"
   ]
  },
  {
   "cell_type": "code",
   "execution_count": 6,
   "metadata": {},
   "outputs": [
    {
     "data": {
      "text/plain": [
       "False"
      ]
     },
     "execution_count": 6,
     "metadata": {},
     "output_type": "execute_result"
    }
   ],
   "source": [
    "(x > 3).all()"
   ]
  },
  {
   "cell_type": "code",
   "execution_count": 7,
   "metadata": {},
   "outputs": [
    {
     "data": {
      "text/plain": [
       "True"
      ]
     },
     "execution_count": 7,
     "metadata": {},
     "output_type": "execute_result"
    }
   ],
   "source": [
    "(x > 3).any()"
   ]
  },
  {
   "cell_type": "code",
   "execution_count": 9,
   "metadata": {},
   "outputs": [
    {
     "data": {
      "text/plain": [
       "(True, True)"
      ]
     },
     "execution_count": 9,
     "metadata": {},
     "output_type": "execute_result"
    }
   ],
   "source": [
    "(x < 10).all(), (x < 10).any()"
   ]
  },
  {
   "cell_type": "code",
   "execution_count": 10,
   "metadata": {},
   "outputs": [
    {
     "data": {
      "text/plain": [
       "False"
      ]
     },
     "execution_count": 10,
     "metadata": {},
     "output_type": "execute_result"
    }
   ],
   "source": [
    "(x > 10).any()"
   ]
  },
  {
   "cell_type": "code",
   "execution_count": 11,
   "metadata": {},
   "outputs": [
    {
     "data": {
      "text/plain": [
       "(array([1, 2], dtype=int64),)"
      ]
     },
     "execution_count": 11,
     "metadata": {},
     "output_type": "execute_result"
    }
   ],
   "source": [
    "# where : 인덱스 반환 함수 => 참인 값들의 인덱스를 반환\n",
    "x = np.array([4, 6, 7, 3, 2])\n",
    "np.where(x > 5)"
   ]
  },
  {
   "cell_type": "code",
   "execution_count": 12,
   "metadata": {},
   "outputs": [
    {
     "data": {
      "text/plain": [
       "array([20, 10, 10, 20, 20])"
      ]
     },
     "execution_count": 12,
     "metadata": {},
     "output_type": "execute_result"
    }
   ],
   "source": [
    "# where 함수는 참인 경우와 거짓인 경우의 값을 매칭해주는ㄴ 값 지정 가능\n",
    "np.where(x > 5, 10, 20)"
   ]
  },
  {
   "cell_type": "code",
   "execution_count": 38,
   "metadata": {},
   "outputs": [
    {
     "data": {
      "text/plain": [
       "array([4, 3, 0, 1, 2], dtype=int64)"
      ]
     },
     "execution_count": 38,
     "metadata": {},
     "output_type": "execute_result"
    }
   ],
   "source": [
    "# 하나의 배열 내에서 정렬된 값의 인덱스를 반환해주는 함수\n",
    "    # argsort : 배열 내의 값들을 작은 순서대로 인덱스를 반환\n",
    "    # argmax : 배열 내의 값들 중 가장 큰 값의 인덱스 반환\n",
    "    # argmin : 배열 내의 값들 중 가장 작은 값의 인덱스 반환\n",
    "x = np.array([4, 6, 7, 3, 2])\n",
    "np.argsort(x)"
   ]
  },
  {
   "cell_type": "code",
   "execution_count": 14,
   "metadata": {},
   "outputs": [
    {
     "data": {
      "text/plain": [
       "2"
      ]
     },
     "execution_count": 14,
     "metadata": {},
     "output_type": "execute_result"
    }
   ],
   "source": [
    "np.argmax(x)"
   ]
  },
  {
   "cell_type": "code",
   "execution_count": 15,
   "metadata": {},
   "outputs": [
    {
     "data": {
      "text/plain": [
       "4"
      ]
     },
     "execution_count": 15,
     "metadata": {},
     "output_type": "execute_result"
    }
   ],
   "source": [
    "np.argmin(x)"
   ]
  },
  {
   "cell_type": "code",
   "execution_count": 17,
   "metadata": {},
   "outputs": [],
   "source": [
    "# 비교 연산과 인덱스 추출 함수를 활용해 데이터 추출\n",
    "    # 대표적인 기법으로 불린 인덱스(boolean index), 팬시 인덱스(fancy index)가 있음"
   ]
  },
  {
   "cell_type": "code",
   "execution_count": 18,
   "metadata": {},
   "outputs": [
    {
     "data": {
      "text/plain": [
       "array([ True,  True,  True, False, False])"
      ]
     },
     "execution_count": 18,
     "metadata": {},
     "output_type": "execute_result"
    }
   ],
   "source": [
    "# 불린 인덱스 : 배열에 있는 값들을 특정 조건에 의해 반환할 수 있는데, 그 특정 조건을 불린형의 배열에 넣어서 추출하는 기법\n",
    "x = np.array([4, 6, 7, 3, 2])\n",
    "x > 3"
   ]
  },
  {
   "cell_type": "code",
   "execution_count": 19,
   "metadata": {},
   "outputs": [
    {
     "data": {
      "text/plain": [
       "array([4, 6, 7])"
      ]
     },
     "execution_count": 19,
     "metadata": {},
     "output_type": "execute_result"
    }
   ],
   "source": [
    "cond = x > 3\n",
    "x[cond]"
   ]
  },
  {
   "cell_type": "code",
   "execution_count": 20,
   "metadata": {},
   "outputs": [
    {
     "data": {
      "text/plain": [
       "(5,)"
      ]
     },
     "execution_count": 20,
     "metadata": {},
     "output_type": "execute_result"
    }
   ],
   "source": [
    "x.shape"
   ]
  },
  {
   "cell_type": "code",
   "execution_count": 21,
   "metadata": {},
   "outputs": [
    {
     "data": {
      "text/plain": [
       "(5,)"
      ]
     },
     "execution_count": 21,
     "metadata": {},
     "output_type": "execute_result"
    }
   ],
   "source": [
    "cond.shape"
   ]
  },
  {
   "cell_type": "code",
   "execution_count": 22,
   "metadata": {},
   "outputs": [],
   "source": [
    "# 위에서 보면 x > 3의 결과를 불린형 배열의 형태로 추출 가능\n",
    "    # 이렇게 생성된 배열을 기존 인덱스에 넣는다면 x[cond]처럼 불린형 배열이 참인 경우에만 값을 추출\n",
    "    # 불린 인덱스는 크게 다음 두 가지 조건을 만족해야 작동\n",
    "        # 인덱스에 들어가는 배열은 불린형이어야 한다.\n",
    "        # 인덱스에 들어가는 불린형 배열의 구조(shape)와 추출 대상이 되는 배열의 구조는 같아야 한다."
   ]
  },
  {
   "cell_type": "code",
   "execution_count": 23,
   "metadata": {},
   "outputs": [
    {
     "data": {
      "text/plain": [
       "array([6, 7, 4, 7, 7, 7])"
      ]
     },
     "execution_count": 23,
     "metadata": {},
     "output_type": "execute_result"
    }
   ],
   "source": [
    "# 팬시 인덱스 : 불린 인덱스와 달리 정수형 배열의 값을 사용 => 해당 정수의 인덱스에 위치한 값 반환\n",
    "x = np.array([4, 6, 7, 3, 2])\n",
    "cond = np.array([1, 2, 0, 2, 2, 2,], int)\n",
    "x[cond]"
   ]
  },
  {
   "cell_type": "code",
   "execution_count": 24,
   "metadata": {},
   "outputs": [
    {
     "data": {
      "text/plain": [
       "array([6, 7, 4, 7, 7, 7])"
      ]
     },
     "execution_count": 24,
     "metadata": {},
     "output_type": "execute_result"
    }
   ],
   "source": [
    "x.take(cond)"
   ]
  },
  {
   "cell_type": "code",
   "execution_count": 26,
   "metadata": {},
   "outputs": [
    {
     "data": {
      "text/plain": [
       "array([ 1,  9,  9, 16,  4,  4])"
      ]
     },
     "execution_count": 26,
     "metadata": {},
     "output_type": "execute_result"
    }
   ],
   "source": [
    "x = np.array([[1, 4], [9, 16]], int)\n",
    "a = np.array([0, 1, 1, 1, 0, 0], int)\n",
    "b = np.array([0, 0, 0, 1, 1, 1], int)\n",
    "x[a, b]"
   ]
  },
  {
   "cell_type": "code",
   "execution_count": 40,
   "metadata": {},
   "outputs": [],
   "source": [
    "# x.take((a, b)), x.take([a, b])  # take 함수는 2차원 이상에서 적용되기 애매한 듯"
   ]
  },
  {
   "cell_type": "code",
   "execution_count": 41,
   "metadata": {},
   "outputs": [
    {
     "name": "stdout",
     "output_type": "stream",
     "text": [
      "[[17 27 14 11]\n",
      " [11 26 26 23]\n",
      " [ 8 24 25 26]]\n"
     ]
    }
   ],
   "source": [
    "arr = np.array([[17, 27, 14, 11], [8, 24, 25, 26], [11, 26, 26, 23], [3, 30, 4, 25], [22, 18, 24, 11]])\n",
    "print(arr[[0, 2, 1]])"
   ]
  },
  {
   "cell_type": "code",
   "execution_count": 43,
   "metadata": {},
   "outputs": [
    {
     "data": {
      "text/plain": [
       "array([[17, 27, 14, 11],\n",
       "       [11, 26, 26, 23],\n",
       "       [ 8, 24, 25, 26]])"
      ]
     },
     "execution_count": 43,
     "metadata": {},
     "output_type": "execute_result"
    }
   ],
   "source": [
    "arr[[0, 2, 1]] # 이중 리스트 : 인덱싱"
   ]
  }
 ],
 "metadata": {
  "kernelspec": {
   "display_name": "machinelearning",
   "language": "python",
   "name": "python3"
  },
  "language_info": {
   "codemirror_mode": {
    "name": "ipython",
    "version": 3
   },
   "file_extension": ".py",
   "mimetype": "text/x-python",
   "name": "python",
   "nbconvert_exporter": "python",
   "pygments_lexer": "ipython3",
   "version": "3.9.13"
  },
  "orig_nbformat": 4
 },
 "nbformat": 4,
 "nbformat_minor": 2
}
