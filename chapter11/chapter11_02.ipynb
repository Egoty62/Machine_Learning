{
 "cells": [
  {
   "cell_type": "markdown",
   "metadata": {},
   "source": [
    "# Chapter 11. 나이브 베이지안 분류기\n",
    "## 2. 베이즈 분류기 구현하기\n",
    "### 01 - 베이즈 분류기 만들기\n",
    "- 전체 데이터는 20개, 이 중 스팸메일임을 나타내는 메일은 6개, 'viagra'라는 단어가 들어있는 이메일은 6개, 스팸메일 중 'viagra'라는 단어가 있는 이메일은 3개\n",
    "    - 이 데이터를 기반으로 'viagra'단어가 들어 있을 때 해당 메일이 스팸일 확률인 $P(spam|viagra)$ 구하기\n",
    "        - $P(spam|viagra) = \\frac{P(spam)P(viagra|spam)}{P(viagra)}$\n",
    "        - $P(viagra) = \\frac{6}{20}$, $P(spam) = \\frac{6}{20}$\n",
    "        - $P(viagra|spam)$ = \\frac{3}{6}$\n",
    "            - $\\therefore P(spam|viagra) = \\frac{\\frac{6}{20} \\times \\frac{3}{6}}{\\frac{6}{20}} = \\frac{1}{2}$\n",
    "\n",
    "### 02 - 코드로 표현하기\n",
    "- 판다스 모듈을 이용하여 코드로 나타내기"
   ]
  },
  {
   "cell_type": "code",
   "execution_count": 1,
   "metadata": {},
   "outputs": [],
   "source": [
    "# 데이터 구성하기\n",
    "\n",
    "from pandas import Series, DataFrame\n",
    "import pandas as pd\n",
    "import numpy as np\n",
    "\n",
    "viagra_spam = {'viagra' : [1, 0, 0, 0, 0, 0, 0, 0, 1, 1, 1, 0, 0, 1, 0, 0, 0, 0, 0, 1],\n",
    "                'spam' : [1, 0, 0, 0, 0, 0, 1, 0, 1, 0, 0, 0, 0, 0, 0, 0, 0, 1, 1, 1]}\n",
    "df = pd.DataFrame(viagra_spam, columns = ['viagra', 'spam'])\n",
    "np_data = df.values"
   ]
  },
  {
   "cell_type": "code",
   "execution_count": 2,
   "metadata": {},
   "outputs": [
    {
     "data": {
      "text/plain": [
       "0.15"
      ]
     },
     "execution_count": 2,
     "metadata": {},
     "output_type": "execute_result"
    }
   ],
   "source": [
    "sum((np_data[:, 0] == 1) & (np_data[:, 1] == 1)) / 20"
   ]
  },
  {
   "cell_type": "code",
   "execution_count": 3,
   "metadata": {},
   "outputs": [
    {
     "data": {
      "text/plain": [
       "0.3"
      ]
     },
     "execution_count": 3,
     "metadata": {},
     "output_type": "execute_result"
    }
   ],
   "source": [
    "p_viagra = sum(np_data[:, 0] == 1) / len(np_data)\n",
    "p_viagra"
   ]
  },
  {
   "cell_type": "code",
   "execution_count": 4,
   "metadata": {},
   "outputs": [
    {
     "data": {
      "text/plain": [
       "0.3"
      ]
     },
     "execution_count": 4,
     "metadata": {},
     "output_type": "execute_result"
    }
   ],
   "source": [
    "p_spam = sum(np_data[:, 1] == 1) / len(np_data)\n",
    "p_spam"
   ]
  },
  {
   "cell_type": "code",
   "execution_count": 5,
   "metadata": {},
   "outputs": [
    {
     "data": {
      "text/plain": [
       "0.15"
      ]
     },
     "execution_count": 5,
     "metadata": {},
     "output_type": "execute_result"
    }
   ],
   "source": [
    "p_v_cap_s = sum((np_data[:, 0] == 1) & (np_data[:, 1] == 1)) / len(np_data)\n",
    "p_v_cap_s"
   ]
  },
  {
   "cell_type": "code",
   "execution_count": 6,
   "metadata": {},
   "outputs": [
    {
     "data": {
      "text/plain": [
       "0.15"
      ]
     },
     "execution_count": 6,
     "metadata": {},
     "output_type": "execute_result"
    }
   ],
   "source": [
    "p_n_v_cap_s = sum((np_data[:, 0] == 0) & (np_data[:, 1] == 1)) / len(np_data)\n",
    "p_n_v_cap_s"
   ]
  },
  {
   "cell_type": "code",
   "execution_count": 7,
   "metadata": {},
   "outputs": [
    {
     "data": {
      "text/plain": [
       "0.5"
      ]
     },
     "execution_count": 7,
     "metadata": {},
     "output_type": "execute_result"
    }
   ],
   "source": [
    "# 베이즈 정리를 사용하여 'viagra'라는 단어가 들어갔을 때 스팸메일일 확률(P(spam|viagra))의 확률\n",
    "p_spam * (p_v_cap_s / p_spam) / p_viagra"
   ]
  },
  {
   "cell_type": "code",
   "execution_count": 8,
   "metadata": {},
   "outputs": [
    {
     "data": {
      "text/plain": [
       "0.2142857142857143"
      ]
     },
     "execution_count": 8,
     "metadata": {},
     "output_type": "execute_result"
    }
   ],
   "source": [
    "# P(spam|~viagra)의 확률\n",
    "p_spam * (p_n_v_cap_s / p_spam) / (1 - p_viagra)"
   ]
  },
  {
   "cell_type": "markdown",
   "metadata": {},
   "source": [
    "- 한 개의 변수로 베이즈 정리를 적용한 베이즈 분류기를 만들어 봄\n",
    "- 실제상황에서 다음과 같은 문제가 발생 가능\n",
    "    - 'viagra'라는 단어 외에 영향을 주는 단어가 있을 수 있음\n",
    "    - 오히려 스팸에서 제외되는 메일에 'viagra'라는 단어가 있을 수 있음\n",
    "\n",
    "- 이와 같은 문제를 해결하기 위해 등장한 것이 나이브 베이지안 분류기(Naive Bayesian Classifier)"
   ]
  }
 ],
 "metadata": {
  "kernelspec": {
   "display_name": "machinelearning",
   "language": "python",
   "name": "python3"
  },
  "language_info": {
   "codemirror_mode": {
    "name": "ipython",
    "version": 3
   },
   "file_extension": ".py",
   "mimetype": "text/x-python",
   "name": "python",
   "nbconvert_exporter": "python",
   "pygments_lexer": "ipython3",
   "version": "3.9.13"
  }
 },
 "nbformat": 4,
 "nbformat_minor": 2
}
